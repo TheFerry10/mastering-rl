{
 "cells": [
  {
   "cell_type": "markdown",
   "source": [
    "# Experimenting with a simple MAB problem"
   ],
   "metadata": {}
  },
  {
   "cell_type": "code",
   "execution_count": 1,
   "source": [
    "import numpy as np\n",
    "import pandas as pd"
   ],
   "outputs": [],
   "metadata": {}
  },
  {
   "cell_type": "code",
   "execution_count": 17,
   "source": [
    "# Class for a single slot machine. Rewards are Gaussian distributed.\n",
    "class GaussianBandit(object):\n",
    "    def __init__(self, mean=0, stdev=1) -> None:\n",
    "        self.mean = mean\n",
    "        self.stdev = stdev\n",
    "\n",
    "    def pull_lever(self):\n",
    "        reward = np.random.normal(self.mean, self.stdev)\n",
    "        return np.round(reward, decimals=1)"
   ],
   "outputs": [],
   "metadata": {}
  },
  {
   "cell_type": "code",
   "execution_count": 104,
   "source": [
    "class GaussianBanditGame(object):\n",
    "    \"\"\"\n",
    "    Playing at multiple bandits.\n",
    "    \"\"\"\n",
    "    def __init__(self, bandits):\n",
    "        self.bandits = bandits\n",
    "        # shuffling the bandits in place\n",
    "        np.random.shuffle(self.bandits)\n",
    "        self.num_bandits = len(bandits)\n",
    "\n",
    "    def reset_game(self):\n",
    "        self.rewards = []\n",
    "        self.total_reward = 0\n",
    "        self.num_rounds_played = 0\n",
    "    \n",
    "    def play(self, choice):\n",
    "        \"\"\"\n",
    "        Play at the choosen bandit among the provided bandits.\n",
    "        \"\"\"\n",
    "        reward = self.bandits[choice].pull_lever()\n",
    "        self.rewards.append(reward)\n",
    "        self.total_reward += reward\n",
    "        self.num_rounds_played += 1\n",
    "        return reward\n",
    "\n",
    "    def user_play(self, num_rounds):\n",
    "        self.reset_game()\n",
    "        print(\"Welcome to the casino. Please choose your bandit\")\n",
    "        for num_round in range(num_rounds):\n",
    "            choice = np.random.randint(0, self.num_bandits)\n",
    "            reward = self.play(choice)\n",
    "            print(f\"Round: {num_round}, bandit: {choice}, reward: {reward}\")\n",
    "        print(f\"Total reward: {np.round(self.total_reward, decimals=1)}\")\n",
    "        "
   ],
   "outputs": [],
   "metadata": {}
  },
  {
   "cell_type": "code",
   "execution_count": 105,
   "source": [
    "# create a group of bandits with Gaussian statistics\n",
    "bandits = [GaussianBandit(mean, stdev) for mean, stdev in zip([1.1, 2.2, 3.0], [0.3, 0.2, 1.0])]"
   ],
   "outputs": [],
   "metadata": {}
  },
  {
   "cell_type": "code",
   "execution_count": 106,
   "source": [
    "game = GaussianBanditGame(bandits)"
   ],
   "outputs": [],
   "metadata": {}
  },
  {
   "cell_type": "code",
   "execution_count": 107,
   "source": [
    "game.user_play(num_rounds=10)"
   ],
   "outputs": [
    {
     "output_type": "stream",
     "name": "stdout",
     "text": [
      "Welcome to the casino. Please choose your bandit\n",
      "Round: 0, bandit: 1, reward: 2.2\n",
      "Round: 1, bandit: 2, reward: 0.9\n",
      "Round: 2, bandit: 0, reward: 6.0\n",
      "Round: 3, bandit: 1, reward: 1.8\n",
      "Round: 4, bandit: 1, reward: 2.1\n",
      "Round: 5, bandit: 0, reward: 3.4\n",
      "Round: 6, bandit: 0, reward: 2.9\n",
      "Round: 7, bandit: 2, reward: 1.3\n",
      "Round: 8, bandit: 0, reward: 2.4\n",
      "Round: 9, bandit: 1, reward: 1.9\n",
      "Total reward: 24.9\n"
     ]
    }
   ],
   "metadata": {}
  },
  {
   "cell_type": "code",
   "execution_count": null,
   "source": [],
   "outputs": [],
   "metadata": {}
  }
 ],
 "metadata": {
  "orig_nbformat": 4,
  "language_info": {
   "name": "python",
   "version": "3.6.13",
   "mimetype": "text/x-python",
   "codemirror_mode": {
    "name": "ipython",
    "version": 3
   },
   "pygments_lexer": "ipython3",
   "nbconvert_exporter": "python",
   "file_extension": ".py"
  },
  "kernelspec": {
   "name": "python3",
   "display_name": "Python 3.6.13 64-bit ('rl-env': conda)"
  },
  "interpreter": {
   "hash": "ab73e7fc19ce4fa51a2147e0c59b2ce1dfffe848eefc531beeba7f38b6ef5e98"
  }
 },
 "nbformat": 4,
 "nbformat_minor": 2
}