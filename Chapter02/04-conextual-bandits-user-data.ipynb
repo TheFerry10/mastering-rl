{
 "cells": [
  {
   "cell_type": "markdown",
   "metadata": {},
   "source": [
    "# Contextual bandits with user data"
   ]
  },
  {
   "cell_type": "code",
   "execution_count": null,
   "metadata": {},
   "outputs": [
    {
     "data": {
      "text/plain": [
       "[1, 0, 1, 42]"
      ]
     },
     "metadata": {},
     "output_type": "display_data"
    }
   ],
   "source": [
    "user_generator.generate_user_with_context()\n",
    "user_generator.display_ad('B')\n",
    "# Census Data\n",
    "url = \"https://archive.ics.uci.edu/ml/machine-learning-databases/adult/adult.data\"\n",
    "import requests\n",
    "s = requests.get(url).content\n",
    "import io\n",
    "df_census = pd.read_csv(io.StringIO(s.decode('utf-8')))\n",
    "df_census"
   ]
  }
 ],
 "metadata": {
  "language_info": {
   "name": "python"
  },
  "orig_nbformat": 4
 },
 "nbformat": 4,
 "nbformat_minor": 2
}
