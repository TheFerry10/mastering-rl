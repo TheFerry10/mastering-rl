{
 "cells": [
  {
   "cell_type": "markdown",
   "metadata": {},
   "source": [
    "![alt text](binary-system.png \"Title\")"
   ]
  },
  {
   "cell_type": "markdown",
   "metadata": {},
   "source": [
    "* State A and state B are referred to state 1 and 2\n",
    "* The initial state vector can be described through the vector $\\mathbf{S}_0$ and can be written as \n",
    "$$ S_0 = [1, 0] $$\n",
    "under the assumption that we are currently in state A\n",
    "* Transition matrix: [[0.75, 0.25], [0.4, 0.6]]\n",
    "* After the first iteration, there is a 75% chance to be located in A and a 0.25 chance to be in B\n"
   ]
  },
  {
   "cell_type": "code",
   "execution_count": 3,
   "metadata": {},
   "outputs": [],
   "source": [
    "import numpy as np"
   ]
  },
  {
   "cell_type": "code",
   "execution_count": 7,
   "metadata": {},
   "outputs": [],
   "source": [
    "def get_transition_matrix(stay_in_a, stay_in_b, move_to_a, move_to_b):\n",
    "    num_states = 2\n",
    "    P = np.zeros((num_states, num_states))\n",
    "    P[0,0] = stay_in_a\n",
    "    P[0,1] = move_to_a\n",
    "    P[1,0] = move_to_b\n",
    "    P[1,1] = stay_in_b\n",
    "    return P\n",
    "\n",
    "\n"
   ]
  },
  {
   "cell_type": "code",
   "execution_count": 9,
   "metadata": {},
   "outputs": [],
   "source": [
    "P = get_transition_matrix(0.75, 0.6, 0.4, 0.25)"
   ]
  },
  {
   "cell_type": "code",
   "execution_count": 19,
   "metadata": {},
   "outputs": [
    {
     "data": {
      "text/plain": [
       "array([[0.75, 0.4 ],\n",
       "       [0.25, 0.6 ]])"
      ]
     },
     "execution_count": 19,
     "metadata": {},
     "output_type": "execute_result"
    }
   ],
   "source": [
    "P"
   ]
  },
  {
   "cell_type": "code",
   "execution_count": 10,
   "metadata": {},
   "outputs": [],
   "source": [
    "S0 = np.array([1,0])\n"
   ]
  },
  {
   "cell_type": "code",
   "execution_count": 17,
   "metadata": {},
   "outputs": [],
   "source": [
    "steps = 1\n",
    "S1 = np.matmul(np.linalg.matrix_power(P, steps), S0)"
   ]
  },
  {
   "cell_type": "code",
   "execution_count": 18,
   "metadata": {},
   "outputs": [
    {
     "data": {
      "text/plain": [
       "array([0.75, 0.25])"
      ]
     },
     "execution_count": 18,
     "metadata": {},
     "output_type": "execute_result"
    }
   ],
   "source": [
    "S1"
   ]
  },
  {
   "cell_type": "code",
   "execution_count": null,
   "metadata": {},
   "outputs": [],
   "source": []
  }
 ],
 "metadata": {
  "interpreter": {
   "hash": "63af69cf9774dbad4db34766d126bf2b3ddb794142b9df7a834b21d458e86eb3"
  },
  "kernelspec": {
   "display_name": "Python 3.6.13 64-bit ('rl-env': conda)",
   "language": "python",
   "name": "python3"
  },
  "language_info": {
   "codemirror_mode": {
    "name": "ipython",
    "version": 3
   },
   "file_extension": ".py",
   "mimetype": "text/x-python",
   "name": "python",
   "nbconvert_exporter": "python",
   "pygments_lexer": "ipython3",
   "version": "3.6.13"
  },
  "orig_nbformat": 4
 },
 "nbformat": 4,
 "nbformat_minor": 2
}
