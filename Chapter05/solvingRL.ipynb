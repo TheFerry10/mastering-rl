{
 "cells": [
  {
   "cell_type": "code",
   "execution_count": 1,
   "metadata": {},
   "outputs": [],
   "source": [
    "import numpy as np\n",
    "import gym"
   ]
  },
  {
   "cell_type": "code",
   "execution_count": 7,
   "metadata": {},
   "outputs": [],
   "source": [
    "class FooddTruck(gym.Env):\n",
    "    def __init__(self):\n",
    "        self.demand_values = [100, 200, 300, 400]\n",
    "        self.demand_probabilities = [0.3, 0.4, 0.2, 0.1]\n",
    "        self.capacity = 400\n",
    "        self.days = ['Mon', 'Tue', 'Wed',\n",
    "                    'Thu', 'Fri', 'Weekend']\n",
    "        self.unit_cost = 4\n",
    "        self.net_revenue = 7\n",
    "        self.action_space = [0, 100, 200, 300, 400]\n",
    "        self.state_space = [(\"Mon\", 0)] \\\n",
    "                            + [(day, inventory) for day in self.days[1:] for inventory in [0, 100, 200, 300]]\n",
    "\n",
    "    def get_next_state_reward(self, state, action, demand):\n",
    "        day, inventory = state\n",
    "        result = dict()\n",
    "        # next day\n",
    "        result['next_day'] = self.days[self.days.index(day) + 1]\n",
    "        # starting inventory\n",
    "        result['starting_inventory'] = min(self.capacity, inventory + action)\n",
    "        # cost for action\n",
    "        result['cost'] = self.unit_cost * action\n",
    "        # sales\n",
    "        result['sales'] = min(result['starting_inventory'], demand)\n",
    "        # revenue\n",
    "        result['revenue'] = self.net_revenue * result['sales']\n",
    "        # next inventory\n",
    "        result['next_inventory'] = result['starting_inventory'] - result['sales']\n",
    "        # reward\n",
    "        result['reward'] = result['revenue'] - result['cost']\n",
    "        return result"
   ]
  },
  {
   "cell_type": "code",
   "execution_count": 8,
   "metadata": {},
   "outputs": [],
   "source": [
    "foodTruck = FooddTruck()"
   ]
  },
  {
   "cell_type": "code",
   "execution_count": 11,
   "metadata": {},
   "outputs": [
    {
     "data": {
      "text/plain": [
       "{'next_day': 'Tue',\n",
       " 'starting_inventory': 300,\n",
       " 'cost': 1200,\n",
       " 'sales': 300,\n",
       " 'revenue': 2100,\n",
       " 'next_inventory': 0,\n",
       " 'reward': 900}"
      ]
     },
     "execution_count": 11,
     "metadata": {},
     "output_type": "execute_result"
    }
   ],
   "source": [
    "foodTruck.get_next_state_reward(state=('Mon', 0), action=300, demand=300)"
   ]
  },
  {
   "cell_type": "code",
   "execution_count": null,
   "metadata": {},
   "outputs": [],
   "source": []
  }
 ],
 "metadata": {
  "interpreter": {
   "hash": "31f2aee4e71d21fbe5cf8b01ff0e069b9275f58929596ceb00d14d90e3e16cd6"
  },
  "kernelspec": {
   "display_name": "Python 3.6.9 64-bit",
   "language": "python",
   "name": "python3"
  },
  "language_info": {
   "codemirror_mode": {
    "name": "ipython",
    "version": 3
   },
   "file_extension": ".py",
   "mimetype": "text/x-python",
   "name": "python",
   "nbconvert_exporter": "python",
   "pygments_lexer": "ipython3",
   "version": "3.6.13"
  },
  "orig_nbformat": 4
 },
 "nbformat": 4,
 "nbformat_minor": 2
}
