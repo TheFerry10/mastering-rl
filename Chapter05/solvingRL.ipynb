{
 "cells": [
  {
   "cell_type": "code",
   "execution_count": 5,
   "metadata": {},
   "outputs": [],
   "source": [
    "import numpy as np\n",
    "import gym"
   ]
  },
  {
   "cell_type": "code",
   "execution_count": 6,
   "metadata": {},
   "outputs": [],
   "source": [
    "class FooddTruck(gym.Env):\n",
    "    def __init__(self):\n",
    "        \"\"\"\n",
    "        Simulation environment of a food truck.\n",
    "        \"\"\"        \n",
    "        self.demand_values = [100, 200, 300, 400]\n",
    "        self.demand_probabilities = [0.3, 0.4, 0.2, 0.1]\n",
    "        self.capacity = 400\n",
    "        self.days = ['Mon', 'Tue', 'Wed',\n",
    "                    'Thu', 'Fri', 'Weekend']\n",
    "        self.unit_cost = 4\n",
    "        self.net_revenue = 7\n",
    "        self.action_space = [0, 100, 200, 300, 400]\n",
    "        self.state_space = [(\"Mon\", 0)] \\\n",
    "                            + [(day, inventory) for day in self.days[1:] for inventory in [0, 100, 200, 300]]\n",
    "\n",
    "    def get_next_state_reward(self, state, action, demand):\n",
    "        \"\"\"\n",
    "        Get the next state based on the current statue, action and demand.add()\n",
    "\n",
    "        Parameters\n",
    "        ----------\n",
    "        state : tuple\n",
    "            The state is defined through the day and inventory: state = (day, inventory)\n",
    "        action : int\n",
    "            Number of burger patties bought to refill the inventory\n",
    "        demand : int\n",
    "            Number of burgers requested \n",
    "\n",
    "        Returns\n",
    "        -------\n",
    "        dict\n",
    "            Resulting consequences for the next state\n",
    "        \"\"\"        \n",
    "        day, inventory = state\n",
    "        result = dict()\n",
    "        result['next_day'] = self.days[self.days.index(day) + 1]\n",
    "        result['starting_inventory'] = min(self.capacity, inventory + action)\n",
    "        result['cost'] = self.unit_cost * action\n",
    "        result['sales'] = min(result['starting_inventory'], demand)\n",
    "        result['revenue'] = self.net_revenue * result['sales']\n",
    "        result['next_inventory'] = result['starting_inventory'] - result['sales']\n",
    "        result['reward'] = result['revenue'] - result['cost']\n",
    "        return result\n",
    "\n",
    "    def get_transition_probability(self, state, action):\n",
    "        \"\"\"\n",
    "        Get the transition probability values for the given state and action.\n",
    "        Rate the next state and the according reward with the probability of the event.\n",
    "        The probability is derived from the assumed probability of the demand. \n",
    "\n",
    "        Parameters\n",
    "        ----------\n",
    "        state : tuple\n",
    "            The state is defined through the day and inventory: state = (day, inventory)\n",
    "        action : int\n",
    "            Number of burger patties bought to refill the inventory\n",
    "\n",
    "        Returns\n",
    "        -------\n",
    "        dict\n",
    "            State and reward tuples with corresponding probability\n",
    "        \"\"\"        \n",
    "        next_state_and_reward_probability = dict()\n",
    "        for index, demand in enumerate(self.demand_values):\n",
    "            result = self.get_next_state_reward(state, action, demand)\n",
    "            next_state = (result['next_day'], result['next_inventory'])\n",
    "            reward = result['reward']\n",
    "            probability = self.demand_probabilities[index]\n",
    "            if (next_state, reward) not in next_state_and_reward_probability:\n",
    "                next_state_and_reward_probability[next_state, reward] = probability\n",
    "            else:\n",
    "                next_state_and_reward_probability[next_state, reward] += probability\n",
    "        return next_state_and_reward_probability\n",
    "    \n",
    "    def is_terminal(self, state):\n",
    "        day, _ = state\n",
    "        if day == 'Weekend':\n",
    "            return True\n",
    "        else:\n",
    "            return False"
   ]
  },
  {
   "cell_type": "markdown",
   "metadata": {},
   "source": [
    "# Policy evaluation"
   ]
  },
  {
   "cell_type": "code",
   "execution_count": 7,
   "metadata": {},
   "outputs": [],
   "source": [
    "def base_policy(states):\n",
    "    \"\"\"\n",
    "    Defining a base policy. States are mapped to actions.\n",
    "\n",
    "    Parameters\n",
    "    ----------\n",
    "    states : list\n",
    "        List of environment states\n",
    "\n",
    "    Returns\n",
    "    -------\n",
    "    dict\n",
    "        The resulting policy. Keys are states while the values are itself dictionaries composed \n",
    "        of action probability pairs.\n",
    "    \"\"\"    \n",
    "    policy = {}\n",
    "    for state in states:\n",
    "        action_probability_pairs = dict()\n",
    "        day, inventory = state\n",
    "        if inventory >= 300:\n",
    "            action_probability_pairs[0] = 1.0\n",
    "        else:\n",
    "            action_probability_pairs[400 - inventory] = 0.5\n",
    "            action_probability_pairs[300 - inventory] = 0.5\n",
    "        policy[state] = action_probability_pairs\n",
    "    return policy"
   ]
  },
  {
   "cell_type": "code",
   "execution_count": 8,
   "metadata": {},
   "outputs": [],
   "source": [
    "def expected_update(env, value, state, action_probability_pairs, gamma):\n",
    "    \"\"\"\n",
    "    Update the expected value.\n",
    "    For a given current state, the transition probabilities are calculated. To this end,\n",
    "    the probabilities for the next state with the corresponding reward are available. From this\n",
    "    events, the expected value is calculated. The expected value is the summed over all events. \n",
    "    \n",
    "    Converting the Bellman equation into an update rule.\n",
    "    \n",
    "\n",
    "    Parameters\n",
    "    ----------\n",
    "    env : _type_\n",
    "        _description_\n",
    "    value : _type_\n",
    "        _description_\n",
    "    state : _type_\n",
    "        _description_\n",
    "    action_probability_pairs : _type_\n",
    "        _description_\n",
    "    gamma : _type_\n",
    "        _description_\n",
    "\n",
    "    Returns\n",
    "    -------\n",
    "    _type_\n",
    "        _description_\n",
    "    \"\"\"    \n",
    "    expected_value = 0\n",
    "    for action in action_probability_pairs:\n",
    "        probability_next_state_and_reward = env.get_transition_probability(state, action)\n",
    "        for next_state, reward in probability_next_state_and_reward:\n",
    "            expected_value += action_probability_pairs[action] \\\n",
    "                            * probability_next_state_and_reward[next_state, reward] \\\n",
    "                            * (reward + gamma * value[next_state])\n",
    "    return expected_value"
   ]
  },
  {
   "cell_type": "code",
   "execution_count": 9,
   "metadata": {},
   "outputs": [],
   "source": [
    "def policy_evaluation(env, policy, max_iter=100,\n",
    "                      value=None, eps=0.1, gamma=1):\n",
    "    \"\"\"\n",
    "    Policy evaluation executes expected updates for all states until the state value converges or \n",
    "    it reaches the maximum number of iterations.\n",
    "\n",
    "    Parameters\n",
    "    ----------\n",
    "    env : class object\n",
    "        simulation environment\n",
    "    policy : dict\n",
    "        A policy that maps states to actions. Keys are states while the values are itself dictionaries composed \n",
    "        of action probability pairs.\n",
    "    max_iter : int, optional\n",
    "        Maximum number of iterations if algorithm does not converge earlier, by default 100\n",
    "    value : _type_, optional\n",
    "        Expected discounted cumulative reward starting in state s and following the policy, by default None\n",
    "    eps : float, optional\n",
    "        Acceptance criteria for the convergence of the algorithm, by default 0.1\n",
    "    gamma : int, optional\n",
    "        Discount factor, by default 1\n",
    "\n",
    "    Returns\n",
    "    -------\n",
    "    dict\n",
    "        Converged expected discounted cumulative rewards\n",
    "    \"\"\"    \n",
    "    if not value:\n",
    "        value = {state: 0 for state in env.state_space}\n",
    "    k = 0\n",
    "    while True:\n",
    "        max_delta = 0\n",
    "        for state in value:\n",
    "            if not env.is_terminal(state):\n",
    "                value_old = value[state]\n",
    "                action_probability_pairs = policy[state]\n",
    "                value[state] = expected_update(env, value, state, action_probability_pairs, gamma)\n",
    "                max_delta = max(max_delta, abs(value[state]- value_old))\n",
    "        k += 1\n",
    "        if max_delta < eps:\n",
    "            print(f\"Converged in {k} iterations.\")\n",
    "            break\n",
    "        elif k == max_iter:\n",
    "            print(f\"Terminating after {k} iterations.\")\n",
    "            break\n",
    "    return value"
   ]
  },
  {
   "cell_type": "code",
   "execution_count": 10,
   "metadata": {},
   "outputs": [],
   "source": [
    "foodTruck = FooddTruck()"
   ]
  },
  {
   "cell_type": "code",
   "execution_count": 11,
   "metadata": {},
   "outputs": [
    {
     "data": {
      "text/plain": [
       "{'next_day': 'Tue',\n",
       " 'starting_inventory': 300,\n",
       " 'cost': 1200,\n",
       " 'sales': 300,\n",
       " 'revenue': 2100,\n",
       " 'next_inventory': 0,\n",
       " 'reward': 900}"
      ]
     },
     "execution_count": 11,
     "metadata": {},
     "output_type": "execute_result"
    }
   ],
   "source": [
    "foodTruck.get_next_state_reward(state=('Mon', 0), action=300, demand=300)"
   ]
  },
  {
   "cell_type": "code",
   "execution_count": 12,
   "metadata": {},
   "outputs": [
    {
     "data": {
      "text/plain": [
       "{(('Wed', 200), 300): 0.3,\n",
       " (('Wed', 100), 1000): 0.4,\n",
       " (('Wed', 0), 1700): 0.30000000000000004}"
      ]
     },
     "execution_count": 12,
     "metadata": {},
     "output_type": "execute_result"
    }
   ],
   "source": [
    "foodTruck.get_transition_probability(('Tue', 200), 100)"
   ]
  },
  {
   "cell_type": "code",
   "execution_count": 13,
   "metadata": {},
   "outputs": [],
   "source": [
    "policy = base_policy(foodTruck.state_space)"
   ]
  },
  {
   "cell_type": "code",
   "execution_count": 14,
   "metadata": {},
   "outputs": [
    {
     "name": "stdout",
     "output_type": "stream",
     "text": [
      "Converged in 6 iterations.\n",
      "Expected weekly profit: 2510.3852187500006\n"
     ]
    }
   ],
   "source": [
    "value = policy_evaluation(env=foodTruck, policy=policy)\n",
    "print(f\"Expected weekly profit: {value['Mon', 0]}\")"
   ]
  },
  {
   "cell_type": "code",
   "execution_count": 15,
   "metadata": {},
   "outputs": [
    {
     "data": {
      "text/plain": [
       "{('Mon', 0): 2510.3852187500006,\n",
       " ('Tue', 0): 1897.4318750000002,\n",
       " ('Tue', 100): 2297.431875,\n",
       " ('Tue', 200): 2697.431875,\n",
       " ('Tue', 300): 3083.7875000000004,\n",
       " ('Wed', 0): 1283.7875000000001,\n",
       " ('Wed', 100): 1683.7875000000004,\n",
       " ('Wed', 200): 2083.7875,\n",
       " ('Wed', 300): 2474.75,\n",
       " ('Thu', 0): 674.75,\n",
       " ('Thu', 100): 1074.75,\n",
       " ('Thu', 200): 1474.75,\n",
       " ('Thu', 300): 1835.0,\n",
       " ('Fri', 0): 35.00000000000003,\n",
       " ('Fri', 100): 435.0,\n",
       " ('Fri', 200): 835.0,\n",
       " ('Fri', 300): 1400.0,\n",
       " ('Weekend', 0): 0,\n",
       " ('Weekend', 100): 0,\n",
       " ('Weekend', 200): 0,\n",
       " ('Weekend', 300): 0}"
      ]
     },
     "execution_count": 15,
     "metadata": {},
     "output_type": "execute_result"
    }
   ],
   "source": [
    "value"
   ]
  }
 ],
 "metadata": {
  "interpreter": {
   "hash": "31f2aee4e71d21fbe5cf8b01ff0e069b9275f58929596ceb00d14d90e3e16cd6"
  },
  "kernelspec": {
   "display_name": "Python 3.6.9 64-bit",
   "language": "python",
   "name": "python3"
  },
  "language_info": {
   "codemirror_mode": {
    "name": "ipython",
    "version": 3
   },
   "file_extension": ".py",
   "mimetype": "text/x-python",
   "name": "python",
   "nbconvert_exporter": "python",
   "pygments_lexer": "ipython3",
   "version": "3.6.13"
  },
  "orig_nbformat": 4
 },
 "nbformat": 4,
 "nbformat_minor": 2
}
